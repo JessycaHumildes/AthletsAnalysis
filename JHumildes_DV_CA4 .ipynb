{
 "cells": [
  {
   "cell_type": "code",
   "execution_count": 2,
   "metadata": {},
   "outputs": [],
   "source": [
    "#import Libraries\n",
    "import pandas as pd\n",
    "import seaborn as sns\n",
    "import matplotlib.pyplot as pt"
   ]
  },
  {
   "cell_type": "code",
   "execution_count": 3,
   "metadata": {},
   "outputs": [],
   "source": [
    "#read file\n",
    "drinks_df = pd.read_csv(\"drinks.csv\")"
   ]
  },
  {
   "cell_type": "code",
   "execution_count": 72,
   "metadata": {},
   "outputs": [
    {
     "data": {
      "text/html": [
       "<div>\n",
       "<style scoped>\n",
       "    .dataframe tbody tr th:only-of-type {\n",
       "        vertical-align: middle;\n",
       "    }\n",
       "\n",
       "    .dataframe tbody tr th {\n",
       "        vertical-align: top;\n",
       "    }\n",
       "\n",
       "    .dataframe thead th {\n",
       "        text-align: right;\n",
       "    }\n",
       "</style>\n",
       "<table border=\"1\" class=\"dataframe\">\n",
       "  <thead>\n",
       "    <tr style=\"text-align: right;\">\n",
       "      <th></th>\n",
       "      <th>country</th>\n",
       "      <th>beer_servings</th>\n",
       "      <th>spirit_servings</th>\n",
       "      <th>wine_servings</th>\n",
       "      <th>total_litres_of_pure_alcohol</th>\n",
       "      <th>continent</th>\n",
       "    </tr>\n",
       "  </thead>\n",
       "  <tbody>\n",
       "    <tr>\n",
       "      <th>0</th>\n",
       "      <td>Afghanistan</td>\n",
       "      <td>0</td>\n",
       "      <td>0</td>\n",
       "      <td>0</td>\n",
       "      <td>0.0</td>\n",
       "      <td>Asia</td>\n",
       "    </tr>\n",
       "    <tr>\n",
       "      <th>1</th>\n",
       "      <td>Albania</td>\n",
       "      <td>89</td>\n",
       "      <td>132</td>\n",
       "      <td>54</td>\n",
       "      <td>4.9</td>\n",
       "      <td>Europe</td>\n",
       "    </tr>\n",
       "    <tr>\n",
       "      <th>2</th>\n",
       "      <td>Algeria</td>\n",
       "      <td>25</td>\n",
       "      <td>0</td>\n",
       "      <td>14</td>\n",
       "      <td>0.7</td>\n",
       "      <td>Africa</td>\n",
       "    </tr>\n",
       "    <tr>\n",
       "      <th>3</th>\n",
       "      <td>Andorra</td>\n",
       "      <td>245</td>\n",
       "      <td>138</td>\n",
       "      <td>312</td>\n",
       "      <td>12.4</td>\n",
       "      <td>Europe</td>\n",
       "    </tr>\n",
       "    <tr>\n",
       "      <th>4</th>\n",
       "      <td>Angola</td>\n",
       "      <td>217</td>\n",
       "      <td>57</td>\n",
       "      <td>45</td>\n",
       "      <td>5.9</td>\n",
       "      <td>Africa</td>\n",
       "    </tr>\n",
       "  </tbody>\n",
       "</table>\n",
       "</div>"
      ],
      "text/plain": [
       "       country  beer_servings  spirit_servings  wine_servings  \\\n",
       "0  Afghanistan              0                0              0   \n",
       "1      Albania             89              132             54   \n",
       "2      Algeria             25                0             14   \n",
       "3      Andorra            245              138            312   \n",
       "4       Angola            217               57             45   \n",
       "\n",
       "   total_litres_of_pure_alcohol continent  \n",
       "0                           0.0      Asia  \n",
       "1                           4.9    Europe  \n",
       "2                           0.7    Africa  \n",
       "3                          12.4    Europe  \n",
       "4                           5.9    Africa  "
      ]
     },
     "execution_count": 72,
     "metadata": {},
     "output_type": "execute_result"
    }
   ],
   "source": [
    "drinks_df.head()"
   ]
  },
  {
   "cell_type": "markdown",
   "metadata": {},
   "source": [
    "# Identifying the 5 countries who consumed the most alcohol:"
   ]
  },
  {
   "cell_type": "markdown",
   "metadata": {},
   "source": [
    "For this analysis I am taking into account that not all drinks have the same alcohol content. So I will be listing the 5 countries with the highest number of alcohol content in the column 'total_litres_of_pure_alcohol'.\n"
   ]
  },
  {
   "cell_type": "code",
   "execution_count": 5,
   "metadata": {},
   "outputs": [],
   "source": [
    "#select the top 5 Total Litres os Pure Alcohol\n",
    "drinks_top_5 = drinks_df.nlargest(5,['total_litres_of_pure_alcohol'])"
   ]
  },
  {
   "cell_type": "code",
   "execution_count": 6,
   "metadata": {},
   "outputs": [
    {
     "data": {
      "text/html": [
       "<div>\n",
       "<style scoped>\n",
       "    .dataframe tbody tr th:only-of-type {\n",
       "        vertical-align: middle;\n",
       "    }\n",
       "\n",
       "    .dataframe tbody tr th {\n",
       "        vertical-align: top;\n",
       "    }\n",
       "\n",
       "    .dataframe thead th {\n",
       "        text-align: right;\n",
       "    }\n",
       "</style>\n",
       "<table border=\"1\" class=\"dataframe\">\n",
       "  <thead>\n",
       "    <tr style=\"text-align: right;\">\n",
       "      <th></th>\n",
       "      <th>country</th>\n",
       "      <th>beer_servings</th>\n",
       "      <th>spirit_servings</th>\n",
       "      <th>wine_servings</th>\n",
       "      <th>total_litres_of_pure_alcohol</th>\n",
       "      <th>continent</th>\n",
       "    </tr>\n",
       "  </thead>\n",
       "  <tbody>\n",
       "    <tr>\n",
       "      <th>15</th>\n",
       "      <td>Belarus</td>\n",
       "      <td>142</td>\n",
       "      <td>373</td>\n",
       "      <td>42</td>\n",
       "      <td>14.4</td>\n",
       "      <td>Europe</td>\n",
       "    </tr>\n",
       "    <tr>\n",
       "      <th>98</th>\n",
       "      <td>Lithuania</td>\n",
       "      <td>343</td>\n",
       "      <td>244</td>\n",
       "      <td>56</td>\n",
       "      <td>12.9</td>\n",
       "      <td>Europe</td>\n",
       "    </tr>\n",
       "    <tr>\n",
       "      <th>3</th>\n",
       "      <td>Andorra</td>\n",
       "      <td>245</td>\n",
       "      <td>138</td>\n",
       "      <td>312</td>\n",
       "      <td>12.4</td>\n",
       "      <td>Europe</td>\n",
       "    </tr>\n",
       "    <tr>\n",
       "      <th>68</th>\n",
       "      <td>Grenada</td>\n",
       "      <td>199</td>\n",
       "      <td>438</td>\n",
       "      <td>28</td>\n",
       "      <td>11.9</td>\n",
       "      <td>North America</td>\n",
       "    </tr>\n",
       "    <tr>\n",
       "      <th>45</th>\n",
       "      <td>Czech Republic</td>\n",
       "      <td>361</td>\n",
       "      <td>170</td>\n",
       "      <td>134</td>\n",
       "      <td>11.8</td>\n",
       "      <td>Europe</td>\n",
       "    </tr>\n",
       "  </tbody>\n",
       "</table>\n",
       "</div>"
      ],
      "text/plain": [
       "           country  beer_servings  spirit_servings  wine_servings  \\\n",
       "15         Belarus            142              373             42   \n",
       "98       Lithuania            343              244             56   \n",
       "3          Andorra            245              138            312   \n",
       "68         Grenada            199              438             28   \n",
       "45  Czech Republic            361              170            134   \n",
       "\n",
       "    total_litres_of_pure_alcohol      continent  \n",
       "15                          14.4         Europe  \n",
       "98                          12.9         Europe  \n",
       "3                           12.4         Europe  \n",
       "68                          11.9  North America  \n",
       "45                          11.8         Europe  "
      ]
     },
     "execution_count": 6,
     "metadata": {},
     "output_type": "execute_result"
    }
   ],
   "source": [
    "drinks_top_5.head()"
   ]
  },
  {
   "cell_type": "markdown",
   "metadata": {},
   "source": [
    "As we can see the top 5 countries are Belarus, Lithuania, Andorra, Grenada and Czech Republic."
   ]
  },
  {
   "cell_type": "markdown",
   "metadata": {},
   "source": [
    "My analysis will be entirely based only on those 5 pre-selected countries with the \n",
    "highest consumption of alcohol.\n",
    "I have Downloaded the dataset drinks.csv and formated it as a pandas DataFrame.\n",
    "The dataset was filtered to only include the 5 countries corresponding to the highest\n",
    "values of total_litres_of_pure_alcohol component.\n",
    "\n"
   ]
  },
  {
   "cell_type": "markdown",
   "metadata": {},
   "source": [
    "# Q2"
   ]
  },
  {
   "cell_type": "markdown",
   "metadata": {},
   "source": [
    "To plot the required visualization for question 2 I've printed the number of beers/spirit\n",
    "and wine consumed in each country individually, and created a data frame to include only those amount\n",
    "of drinks in order to subset the DataFrame to include data from the top 5 countries.\n",
    "I have chosen for using seaborn to generate a bar plot for the drinks each one with a different style: \n",
    "'whitegrid','ticks'and 'darkgrid'.\n",
    "\n",
    "Beer - We can easily visualize the difference of consume of beers from one country to another. \n",
    "The 'whitegrid' has black lines that help us to identify the spread of values.\n",
    "\n",
    "\n",
    "\n",
    "Beer_Servings"
   ]
  },
  {
   "cell_type": "code",
   "execution_count": 7,
   "metadata": {},
   "outputs": [],
   "source": [
    "#checking if there are any missing values\n",
    "#drinks_top_5_filter_beer = drinks_top_5.dropna(subset=['beer_servings'])\n",
    "#drinks_top_5_filter_beer.head()"
   ]
  },
  {
   "cell_type": "code",
   "execution_count": 8,
   "metadata": {},
   "outputs": [],
   "source": [
    "#Print the number of drinks in each country\n",
    "#total_beer = drinks_top_5_filter[(drinks_top_5_filter.beer_servings>=1)]"
   ]
  },
  {
   "cell_type": "code",
   "execution_count": 11,
   "metadata": {},
   "outputs": [
    {
     "data": {
      "text/plain": [
       "343    1\n",
       "142    1\n",
       "245    1\n",
       "361    1\n",
       "199    1\n",
       "Name: beer_servings, dtype: int64"
      ]
     },
     "execution_count": 11,
     "metadata": {},
     "output_type": "execute_result"
    }
   ],
   "source": [
    "drinks_top_5.beer_servings.value_counts()"
   ]
  },
  {
   "cell_type": "code",
   "execution_count": 12,
   "metadata": {},
   "outputs": [],
   "source": [
    "top_countries_beer=[\"343\",\"142\",\"245\",\"361\",\"199\"]"
   ]
  },
  {
   "cell_type": "code",
   "execution_count": 14,
   "metadata": {},
   "outputs": [],
   "source": [
    "# subset the DataFrame to include data from the top countries beer_servings\n",
    "total_beer_top_5 = drinks_top_5[(drinks_top_5.beer_servings.isin(top_countries_beer))]"
   ]
  },
  {
   "cell_type": "code",
   "execution_count": 17,
   "metadata": {},
   "outputs": [
    {
     "data": {
      "text/html": [
       "<div>\n",
       "<style scoped>\n",
       "    .dataframe tbody tr th:only-of-type {\n",
       "        vertical-align: middle;\n",
       "    }\n",
       "\n",
       "    .dataframe tbody tr th {\n",
       "        vertical-align: top;\n",
       "    }\n",
       "\n",
       "    .dataframe thead th {\n",
       "        text-align: right;\n",
       "    }\n",
       "</style>\n",
       "<table border=\"1\" class=\"dataframe\">\n",
       "  <thead>\n",
       "    <tr style=\"text-align: right;\">\n",
       "      <th></th>\n",
       "      <th>country</th>\n",
       "      <th>beer_servings</th>\n",
       "      <th>spirit_servings</th>\n",
       "      <th>wine_servings</th>\n",
       "      <th>total_litres_of_pure_alcohol</th>\n",
       "      <th>continent</th>\n",
       "    </tr>\n",
       "  </thead>\n",
       "  <tbody>\n",
       "    <tr>\n",
       "      <th>15</th>\n",
       "      <td>Belarus</td>\n",
       "      <td>142</td>\n",
       "      <td>373</td>\n",
       "      <td>42</td>\n",
       "      <td>14.4</td>\n",
       "      <td>Europe</td>\n",
       "    </tr>\n",
       "    <tr>\n",
       "      <th>98</th>\n",
       "      <td>Lithuania</td>\n",
       "      <td>343</td>\n",
       "      <td>244</td>\n",
       "      <td>56</td>\n",
       "      <td>12.9</td>\n",
       "      <td>Europe</td>\n",
       "    </tr>\n",
       "    <tr>\n",
       "      <th>3</th>\n",
       "      <td>Andorra</td>\n",
       "      <td>245</td>\n",
       "      <td>138</td>\n",
       "      <td>312</td>\n",
       "      <td>12.4</td>\n",
       "      <td>Europe</td>\n",
       "    </tr>\n",
       "    <tr>\n",
       "      <th>68</th>\n",
       "      <td>Grenada</td>\n",
       "      <td>199</td>\n",
       "      <td>438</td>\n",
       "      <td>28</td>\n",
       "      <td>11.9</td>\n",
       "      <td>North America</td>\n",
       "    </tr>\n",
       "    <tr>\n",
       "      <th>45</th>\n",
       "      <td>Czech Republic</td>\n",
       "      <td>361</td>\n",
       "      <td>170</td>\n",
       "      <td>134</td>\n",
       "      <td>11.8</td>\n",
       "      <td>Europe</td>\n",
       "    </tr>\n",
       "  </tbody>\n",
       "</table>\n",
       "</div>"
      ],
      "text/plain": [
       "           country  beer_servings  spirit_servings  wine_servings  \\\n",
       "15         Belarus            142              373             42   \n",
       "98       Lithuania            343              244             56   \n",
       "3          Andorra            245              138            312   \n",
       "68         Grenada            199              438             28   \n",
       "45  Czech Republic            361              170            134   \n",
       "\n",
       "    total_litres_of_pure_alcohol      continent  \n",
       "15                          14.4         Europe  \n",
       "98                          12.9         Europe  \n",
       "3                           12.4         Europe  \n",
       "68                          11.9  North America  \n",
       "45                          11.8         Europe  "
      ]
     },
     "execution_count": 17,
     "metadata": {},
     "output_type": "execute_result"
    }
   ],
   "source": [
    "total_beer_top_5.head()"
   ]
  },
  {
   "cell_type": "code",
   "execution_count": 18,
   "metadata": {},
   "outputs": [
    {
     "data": {
      "image/png": "[encoded data removed]",
      "text/plain": [
       "<Figure size 432x288 with 1 Axes>"
      ]
     },
     "metadata": {},
     "output_type": "display_data"
    }
   ],
   "source": [
    "from numpy import median, mean\n",
    "\n",
    "sns.set(style=\"whitegrid\")\n",
    "\n",
    "ax = sns.barplot(x=\"country\", y=\"beer_servings\", data=total_beer_top_5)\n"
   ]
  },
  {
   "cell_type": "markdown",
   "metadata": {},
   "source": [
    "Spiirit - The 'stick' style has no error bars but we still can have a good vizualization of the spread of values from this plot.\n",
    "\n",
    "\n",
    "Spirit_Servings"
   ]
  },
  {
   "cell_type": "code",
   "execution_count": 68,
   "metadata": {},
   "outputs": [],
   "source": [
    "top_countries_spirit=[\"373\",\"244\",\"138\",\"438\",\"170\"]\n",
    "\n",
    "## subset the DataFrame to include data from the top countries spirit_servings\n",
    "total_spirit_top_5 = drinks_top_5_filter_spirit[(drinks_top_5_filter_spirit.spirit_servings.isin(top_countries_spirit))]"
   ]
  },
  {
   "cell_type": "code",
   "execution_count": 69,
   "metadata": {},
   "outputs": [
    {
     "data": {
      "image/png": "[encoded data removed]",
      "text/plain": [
       "<Figure size 432x288 with 1 Axes>"
      ]
     },
     "metadata": {},
     "output_type": "display_data"
    }
   ],
   "source": [
    "sns.set(style=\"ticks\")\n",
    "ax = sns.barplot(x=\"country\", y=\"spirit_servings\", data=total_spirit_top_5,estimator=mean)"
   ]
  },
  {
   "cell_type": "markdown",
   "metadata": {},
   "source": [
    "Wine - We can easily visualize the difference of consume of wine from one country to another. The 'blackgrid' has white error lines that help us to identify the spread of values, and I would say that this plot is better in my point of view, because it has a dark backgroung in the rectangulo and when looking at it my eyes doesn't get 'tired'.\n",
    "\n",
    "Wine_Servings"
   ]
  },
  {
   "cell_type": "code",
   "execution_count": 70,
   "metadata": {},
   "outputs": [],
   "source": [
    "top_countries_wine=[\"42\",\"56\",\"312\",\"28\",\"134\"]\n",
    "\n",
    "## subset the DataFrame to include data from the top countries wine_servings\n",
    "total_wine_top_5 = drinks_top_5_filter_wine[(drinks_top_5_filter_wine.wine_servings.isin(top_countries_wine))]"
   ]
  },
  {
   "cell_type": "code",
   "execution_count": 71,
   "metadata": {},
   "outputs": [
    {
     "data": {
      "image/png": "[encoded data removed]",
      "text/plain": [
       "<Figure size 432x288 with 1 Axes>"
      ]
     },
     "metadata": {},
     "output_type": "display_data"
    }
   ],
   "source": [
    "sns.set(style=\"darkgrid\")\n",
    "ax = sns.barplot(x=\"country\", y=\"wine_servings\", data=total_wine_top_5,estimator=mean)"
   ]
  },
  {
   "cell_type": "markdown",
   "metadata": {},
   "source": [
    "# Q3\n",
    "\n",
    "The graph I used to depict the distribution of the “Total litres of pure alcohol” in the\n",
    "top five countries was distplot function that also includes a smoothed curve over the histogram. I found\n",
    "it is helpful to visualize most of the countries consume of pure alcohol are between 11 litres and 13 litres,\n",
    "and there are also a country that exceptionally consumed more than 14 litres."
   ]
  },
  {
   "cell_type": "code",
   "execution_count": 25,
   "metadata": {},
   "outputs": [],
   "source": [
    "top_5_litres=[\"14.4\",\"12.9\",\"12.4\",\"11.9\",\"11.8\"]\n",
    "\n",
    "# subset the DataFrame to include data from the top countries pure_alcohol\n",
    "top_5_countries_total_litres=drinks_top_5[(drinks_top_5.total_litres_of_pure_alcohol.isin(top_5_litres))]"
   ]
  },
  {
   "cell_type": "code",
   "execution_count": 51,
   "metadata": {},
   "outputs": [
    {
     "data": {
      "text/plain": [
       "<matplotlib.axes._subplots.AxesSubplot at 0x13fecedd340>"
      ]
     },
     "execution_count": 51,
     "metadata": {},
     "output_type": "execute_result"
    },
    {
     "data": {
      "image/png": "[encoded data removed]",
      "text/plain": [
       "<Figure size 432x288 with 1 Axes>"
      ]
     },
     "metadata": {},
     "output_type": "display_data"
    }
   ],
   "source": [
    "sns.distplot(top_5_countries_total_litres.total_litres_of_pure_alcohol)"
   ]
  },
  {
   "cell_type": "markdown",
   "metadata": {},
   "source": [
    "While most of the countries consume of pure alcohol are between 11 litres and 13 litres, there are also a country that exceptionally consumed more than 14 litres."
   ]
  },
  {
   "cell_type": "markdown",
   "metadata": {},
   "source": [
    "# Q4\n",
    "\n",
    "I first printed records for each value of the feature 'continent' and then I created a DataFrame to\n",
    "include only these continents.\n",
    "I Generated a bar plot of the continents with the count of the most consume of “Total litres of pure alcohol”\n",
    "across the six continents.\n",
    "Considering the six continents present in my Dataset, Europe is the continent that most consumed \n",
    "“Total litres of pure alcohol”, followed by Africa, North America, Oceania, and Asia."
   ]
  },
  {
   "cell_type": "code",
   "execution_count": 53,
   "metadata": {},
   "outputs": [],
   "source": [
    "top_5_pure_alcohol = drinks_df.dropna(subset=[\"total_litres_of_pure_alcohol\"])"
   ]
  },
  {
   "cell_type": "code",
   "execution_count": 54,
   "metadata": {},
   "outputs": [
    {
     "data": {
      "text/html": [
       "<div>\n",
       "<style scoped>\n",
       "    .dataframe tbody tr th:only-of-type {\n",
       "        vertical-align: middle;\n",
       "    }\n",
       "\n",
       "    .dataframe tbody tr th {\n",
       "        vertical-align: top;\n",
       "    }\n",
       "\n",
       "    .dataframe thead th {\n",
       "        text-align: right;\n",
       "    }\n",
       "</style>\n",
       "<table border=\"1\" class=\"dataframe\">\n",
       "  <thead>\n",
       "    <tr style=\"text-align: right;\">\n",
       "      <th></th>\n",
       "      <th>country</th>\n",
       "      <th>beer_servings</th>\n",
       "      <th>spirit_servings</th>\n",
       "      <th>wine_servings</th>\n",
       "      <th>total_litres_of_pure_alcohol</th>\n",
       "      <th>continent</th>\n",
       "    </tr>\n",
       "  </thead>\n",
       "  <tbody>\n",
       "    <tr>\n",
       "      <th>0</th>\n",
       "      <td>Afghanistan</td>\n",
       "      <td>0</td>\n",
       "      <td>0</td>\n",
       "      <td>0</td>\n",
       "      <td>0.0</td>\n",
       "      <td>Asia</td>\n",
       "    </tr>\n",
       "    <tr>\n",
       "      <th>1</th>\n",
       "      <td>Albania</td>\n",
       "      <td>89</td>\n",
       "      <td>132</td>\n",
       "      <td>54</td>\n",
       "      <td>4.9</td>\n",
       "      <td>Europe</td>\n",
       "    </tr>\n",
       "    <tr>\n",
       "      <th>2</th>\n",
       "      <td>Algeria</td>\n",
       "      <td>25</td>\n",
       "      <td>0</td>\n",
       "      <td>14</td>\n",
       "      <td>0.7</td>\n",
       "      <td>Africa</td>\n",
       "    </tr>\n",
       "    <tr>\n",
       "      <th>3</th>\n",
       "      <td>Andorra</td>\n",
       "      <td>245</td>\n",
       "      <td>138</td>\n",
       "      <td>312</td>\n",
       "      <td>12.4</td>\n",
       "      <td>Europe</td>\n",
       "    </tr>\n",
       "    <tr>\n",
       "      <th>4</th>\n",
       "      <td>Angola</td>\n",
       "      <td>217</td>\n",
       "      <td>57</td>\n",
       "      <td>45</td>\n",
       "      <td>5.9</td>\n",
       "      <td>Africa</td>\n",
       "    </tr>\n",
       "  </tbody>\n",
       "</table>\n",
       "</div>"
      ],
      "text/plain": [
       "       country  beer_servings  spirit_servings  wine_servings  \\\n",
       "0  Afghanistan              0                0              0   \n",
       "1      Albania             89              132             54   \n",
       "2      Algeria             25                0             14   \n",
       "3      Andorra            245              138            312   \n",
       "4       Angola            217               57             45   \n",
       "\n",
       "   total_litres_of_pure_alcohol continent  \n",
       "0                           0.0      Asia  \n",
       "1                           4.9    Europe  \n",
       "2                           0.7    Africa  \n",
       "3                          12.4    Europe  \n",
       "4                           5.9    Africa  "
      ]
     },
     "execution_count": 54,
     "metadata": {},
     "output_type": "execute_result"
    }
   ],
   "source": [
    "top_5_pure_alcohol.head()"
   ]
  },
  {
   "cell_type": "code",
   "execution_count": 55,
   "metadata": {},
   "outputs": [],
   "source": [
    "top_5_pure_alcohol_above = top_5_pure_alcohol[(top_5_pure_alcohol.total_litres_of_pure_alcohol>=1)]"
   ]
  },
  {
   "cell_type": "code",
   "execution_count": 56,
   "metadata": {},
   "outputs": [
    {
     "data": {
      "text/plain": [
       "Europe           43\n",
       "Africa           38\n",
       "Asia             23\n",
       "North America    23\n",
       "Oceania          14\n",
       "South America    12\n",
       "Name: continent, dtype: int64"
      ]
     },
     "execution_count": 56,
     "metadata": {},
     "output_type": "execute_result"
    }
   ],
   "source": [
    "top_5_pure_alcohol_above.continent.value_counts()"
   ]
  },
  {
   "cell_type": "code",
   "execution_count": 57,
   "metadata": {},
   "outputs": [
    {
     "data": {
      "text/html": [
       "<div>\n",
       "<style scoped>\n",
       "    .dataframe tbody tr th:only-of-type {\n",
       "        vertical-align: middle;\n",
       "    }\n",
       "\n",
       "    .dataframe tbody tr th {\n",
       "        vertical-align: top;\n",
       "    }\n",
       "\n",
       "    .dataframe thead th {\n",
       "        text-align: right;\n",
       "    }\n",
       "</style>\n",
       "<table border=\"1\" class=\"dataframe\">\n",
       "  <thead>\n",
       "    <tr style=\"text-align: right;\">\n",
       "      <th></th>\n",
       "      <th>country</th>\n",
       "      <th>beer_servings</th>\n",
       "      <th>spirit_servings</th>\n",
       "      <th>wine_servings</th>\n",
       "      <th>total_litres_of_pure_alcohol</th>\n",
       "      <th>continent</th>\n",
       "    </tr>\n",
       "  </thead>\n",
       "  <tbody>\n",
       "    <tr>\n",
       "      <th>15</th>\n",
       "      <td>Belarus</td>\n",
       "      <td>142</td>\n",
       "      <td>373</td>\n",
       "      <td>42</td>\n",
       "      <td>14.4</td>\n",
       "      <td>Europe</td>\n",
       "    </tr>\n",
       "    <tr>\n",
       "      <th>98</th>\n",
       "      <td>Lithuania</td>\n",
       "      <td>343</td>\n",
       "      <td>244</td>\n",
       "      <td>56</td>\n",
       "      <td>12.9</td>\n",
       "      <td>Europe</td>\n",
       "    </tr>\n",
       "    <tr>\n",
       "      <th>3</th>\n",
       "      <td>Andorra</td>\n",
       "      <td>245</td>\n",
       "      <td>138</td>\n",
       "      <td>312</td>\n",
       "      <td>12.4</td>\n",
       "      <td>Europe</td>\n",
       "    </tr>\n",
       "    <tr>\n",
       "      <th>68</th>\n",
       "      <td>Grenada</td>\n",
       "      <td>199</td>\n",
       "      <td>438</td>\n",
       "      <td>28</td>\n",
       "      <td>11.9</td>\n",
       "      <td>North America</td>\n",
       "    </tr>\n",
       "    <tr>\n",
       "      <th>45</th>\n",
       "      <td>Czech Republic</td>\n",
       "      <td>361</td>\n",
       "      <td>170</td>\n",
       "      <td>134</td>\n",
       "      <td>11.8</td>\n",
       "      <td>Europe</td>\n",
       "    </tr>\n",
       "  </tbody>\n",
       "</table>\n",
       "</div>"
      ],
      "text/plain": [
       "           country  beer_servings  spirit_servings  wine_servings  \\\n",
       "15         Belarus            142              373             42   \n",
       "98       Lithuania            343              244             56   \n",
       "3          Andorra            245              138            312   \n",
       "68         Grenada            199              438             28   \n",
       "45  Czech Republic            361              170            134   \n",
       "\n",
       "    total_litres_of_pure_alcohol      continent  \n",
       "15                          14.4         Europe  \n",
       "98                          12.9         Europe  \n",
       "3                           12.4         Europe  \n",
       "68                          11.9  North America  \n",
       "45                          11.8         Europe  "
      ]
     },
     "execution_count": 57,
     "metadata": {},
     "output_type": "execute_result"
    }
   ],
   "source": [
    "top_5_pure_alcohol_above.nlargest(5,['total_litres_of_pure_alcohol'])"
   ]
  },
  {
   "cell_type": "code",
   "execution_count": 58,
   "metadata": {},
   "outputs": [],
   "source": [
    "# list the top 5 continents\n",
    "top_continents=[\"Europe\",\"Africa\",\"North America\",\"Asia\",\"Oceania\"]"
   ]
  },
  {
   "cell_type": "code",
   "execution_count": 59,
   "metadata": {},
   "outputs": [],
   "source": [
    "#subset the DataFrame to include data from the top continents\n",
    "top_5_continents=top_5_pure_alcohol_above[(top_5_pure_alcohol_above.continent.isin(top_continents))]"
   ]
  },
  {
   "cell_type": "code",
   "execution_count": 62,
   "metadata": {},
   "outputs": [
    {
     "data": {
      "text/plain": [
       "<seaborn.axisgrid.FacetGrid at 0x13fed2db7c0>"
      ]
     },
     "execution_count": 62,
     "metadata": {},
     "output_type": "execute_result"
    },
    {
     "data": {
      "image/png": "[encoded data removed]",
      "text/plain": [
       "<Figure size 720x360 with 1 Axes>"
      ]
     },
     "metadata": {},
     "output_type": "display_data"
    }
   ],
   "source": [
    "#generate bar plot indicating count of continents \n",
    "#g = sns.catplot('continent', data=top_5_continents, kind=\"count\", aspect=1.5)\n",
    "\n",
    "g = sns.catplot('continent', data=top_5_continents, kind=\"count\", aspect=2)\n",
    "\n",
    "g.set_xticklabels(rotation=30)\n"
   ]
  },
  {
   "cell_type": "markdown",
   "metadata": {},
   "source": [
    "The continent with the most consume of total_litres_of_pure_alcohol is Europe."
   ]
  },
  {
   "cell_type": "markdown",
   "metadata": {},
   "source": [
    "# Q5\n",
    "\n",
    "To plot the required visualization I've printed the number of beers/and wine consumed per continent individually,\n",
    "and created a data frame to include only those amount of drinks in order to subset the DataFrame to include data from the top 5 countries.\n",
    "I have Generated a bar plot indicating the average of consume of beer/wine, categorized as Europe and North America, the two continents presented on the top 5 countries presented on the Dataframe.\n",
    "The bar plot indicates the consume of beer/wine in per continent, the continents are represented by the bars on the rectangulo \n",
    "with two different colors.\n",
    "The average of beer serving by continent are higher than the consume of wine, and there are also a country that exceptionally consumed more than 300 wine_servings."
   ]
  },
  {
   "cell_type": "code",
   "execution_count": 67,
   "metadata": {},
   "outputs": [
    {
     "data": {
      "text/plain": [
       "<matplotlib.axes._subplots.AxesSubplot at 0x13feeb7e5e0>"
      ]
     },
     "execution_count": 67,
     "metadata": {},
     "output_type": "execute_result"
    },
    {
     "data": {
      "image/png": "[encoded data removed]",
      "text/plain": [
       "<Figure size 432x288 with 1 Axes>"
      ]
     },
     "metadata": {},
     "output_type": "display_data"
    }
   ],
   "source": [
    "top_cont=[\"Europe\",\"North America\"]\n",
    "\n",
    "# subset the DataFrame to include data from the top countries\n",
    "top_5_countries_total_beers_cont=drinks_top_5[(drinks_top_5.continent.isin(top_cont))]\n",
    "\n",
    "sns.set(style=\"whitegrid\")\n",
    "\n",
    "sns.barplot(x=\"country\", y=\"beer_servings\", data=top_5_countries_total_beers_cont, estimator=mean, hue='continent')"
   ]
  },
  {
   "cell_type": "code",
   "execution_count": 64,
   "metadata": {},
   "outputs": [
    {
     "data": {
      "text/plain": [
       "<matplotlib.axes._subplots.AxesSubplot at 0x13feeae66a0>"
      ]
     },
     "execution_count": 64,
     "metadata": {},
     "output_type": "execute_result"
    },
    {
     "data": {
      "image/png": "[encoded data removed]",
      "text/plain": [
       "<Figure size 432x288 with 1 Axes>"
      ]
     },
     "metadata": {},
     "output_type": "display_data"
    }
   ],
   "source": [
    "top_cont=[\"Europe\",\"North America\"]\n",
    "\n",
    "# subset the DataFrame to include data from the top countries\n",
    "top_5_countries_total_wine_cont=drinks_top_5[(drinks_top_5.continent.isin(top_cont))]\n",
    "\n",
    "sns.set(style=\"whitegrid\")\n",
    "\n",
    "sns.barplot(x=\"country\", y=\"wine_servings\", data=top_5_countries_total_wine_cont, estimator=mean, hue='continent')"
   ]
  },
  {
   "cell_type": "markdown",
   "metadata": {},
   "source": [
    "# References\n",
    "\n",
    "O’Reilly Online Learning. 2020. Interactive Data Visualization With Python - Second Edition. [online] Available at: <https://learning.oreilly.com/library/view/interactive-data-visualization/9781800200944/C13958_01Commercial_Final_SW_New_ePub.xhtml#_idParaDest-12> [Accessed 25 November 2020].\n",
    "\n",
    "Medium. 2020. Data Cleaning With Python And Pandas: Detecting Missing Values. [online] Available at: <https://towardsdatascience.com/data-cleaning-with-python-and-pandas-detecting-missing-values-3e9c6ebcf78b> [Accessed 27 November 2020]."
   ]
  },
  {
   "cell_type": "code",
   "execution_count": null,
   "metadata": {},
   "outputs": [],
   "source": []
  }
 ],
 "metadata": {
  "kernelspec": {
   "display_name": "Python 3",
   "language": "python",
   "name": "python3"
  },
  "language_info": {
   "codemirror_mode": {
    "name": "ipython",
    "version": 3
   },
   "file_extension": ".py",
   "mimetype": "text/x-python",
   "name": "python",
   "nbconvert_exporter": "python",
   "pygments_lexer": "ipython3",
   "version": "3.8.3"
  }
 },
 "nbformat": 4,
 "nbformat_minor": 4
}
